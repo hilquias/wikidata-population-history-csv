{
 "cells": [
  {
   "cell_type": "code",
   "execution_count": 1,
   "metadata": {},
   "outputs": [],
   "source": [
    "import numpy as np\n",
    "import pandas as pd\n",
    "import requests\n",
    "import io"
   ]
  },
  {
   "cell_type": "markdown",
   "metadata": {},
   "source": [
    "# Fetching"
   ]
  },
  {
   "cell_type": "code",
   "execution_count": 2,
   "metadata": {},
   "outputs": [],
   "source": [
    "uri = 'https://query.wikidata.org/sparql'"
   ]
  },
  {
   "cell_type": "code",
   "execution_count": 3,
   "metadata": {},
   "outputs": [],
   "source": [
    "query = \"\"\"\n",
    "SELECT DISTINCT ?id ?name ?continent_id ?continent_name WHERE {\n",
    "  ?item p:P31 ?stat.\n",
    "  ?stat ps:P31 wd:Q3624078.\n",
    "  FILTER(NOT EXISTS { ?stat pq:P582 ?end_time. })\n",
    "  FILTER(NOT EXISTS { \n",
    "    ?item p:P31 [ ps:P31 wd:Q3024240 ]\n",
    "  })\n",
    "  ?item wdt:P30 ?continent.\n",
    "  BIND(STRAFTER(STR(?item), \"http://www.wikidata.org/entity/\") AS ?id)\n",
    "  BIND(STRAFTER(STR(?continent), \"http://www.wikidata.org/entity/\") AS ?continent_id)\n",
    "  SERVICE wikibase:label {\n",
    "    bd:serviceParam wikibase:language \"en\".\n",
    "    ?item rdfs:label ?name.\n",
    "    ?continent rdfs:label ?continent_name.\n",
    "  }\n",
    "}\n",
    "\"\"\""
   ]
  },
  {
   "cell_type": "code",
   "execution_count": 4,
   "metadata": {},
   "outputs": [],
   "source": [
    "params = {'query' : query}\n",
    "headers = { 'Accept': 'text/csv'}"
   ]
  },
  {
   "cell_type": "code",
   "execution_count": 5,
   "metadata": {},
   "outputs": [],
   "source": [
    "r = requests.get(uri, params=params, headers=headers)\n",
    "r.raise_for_status()"
   ]
  },
  {
   "cell_type": "code",
   "execution_count": 6,
   "metadata": {},
   "outputs": [
    {
     "data": {
      "text/html": [
       "<div>\n",
       "<style scoped>\n",
       "    .dataframe tbody tr th:only-of-type {\n",
       "        vertical-align: middle;\n",
       "    }\n",
       "\n",
       "    .dataframe tbody tr th {\n",
       "        vertical-align: top;\n",
       "    }\n",
       "\n",
       "    .dataframe thead th {\n",
       "        text-align: right;\n",
       "    }\n",
       "</style>\n",
       "<table border=\"1\" class=\"dataframe\">\n",
       "  <thead>\n",
       "    <tr style=\"text-align: right;\">\n",
       "      <th></th>\n",
       "      <th></th>\n",
       "      <th>continent_id</th>\n",
       "      <th>continent_name</th>\n",
       "    </tr>\n",
       "    <tr>\n",
       "      <th>id</th>\n",
       "      <th>name</th>\n",
       "      <th></th>\n",
       "      <th></th>\n",
       "    </tr>\n",
       "  </thead>\n",
       "  <tbody>\n",
       "    <tr>\n",
       "      <th>Q1000</th>\n",
       "      <th>Gabon</th>\n",
       "      <td>Q15</td>\n",
       "      <td>Africa</td>\n",
       "    </tr>\n",
       "    <tr>\n",
       "      <th>Q1005</th>\n",
       "      <th>Gambia</th>\n",
       "      <td>Q15</td>\n",
       "      <td>Africa</td>\n",
       "    </tr>\n",
       "    <tr>\n",
       "      <th>Q1006</th>\n",
       "      <th>Guinea</th>\n",
       "      <td>Q15</td>\n",
       "      <td>Africa</td>\n",
       "    </tr>\n",
       "    <tr>\n",
       "      <th>Q1007</th>\n",
       "      <th>Guinea-Bissau</th>\n",
       "      <td>Q15</td>\n",
       "      <td>Africa</td>\n",
       "    </tr>\n",
       "    <tr>\n",
       "      <th>Q1008</th>\n",
       "      <th>Ivory Coast</th>\n",
       "      <td>Q15</td>\n",
       "      <td>Africa</td>\n",
       "    </tr>\n",
       "  </tbody>\n",
       "</table>\n",
       "</div>"
      ],
      "text/plain": [
       "                    continent_id continent_name\n",
       "id    name                                     \n",
       "Q1000 Gabon                  Q15         Africa\n",
       "Q1005 Gambia                 Q15         Africa\n",
       "Q1006 Guinea                 Q15         Africa\n",
       "Q1007 Guinea-Bissau          Q15         Africa\n",
       "Q1008 Ivory Coast            Q15         Africa"
      ]
     },
     "execution_count": 6,
     "metadata": {},
     "output_type": "execute_result"
    }
   ],
   "source": [
    "raw = pd.read_csv(io.StringIO(r.content.decode('utf-8')))\n",
    "raw = raw.set_index(['id', 'name']).sort_index()\n",
    "raw.head()"
   ]
  },
  {
   "cell_type": "markdown",
   "metadata": {},
   "source": [
    "# Cleaning"
   ]
  },
  {
   "cell_type": "markdown",
   "metadata": {},
   "source": [
    "## Add `continent` code"
   ]
  },
  {
   "cell_type": "code",
   "execution_count": 7,
   "metadata": {},
   "outputs": [
    {
     "data": {
      "text/html": [
       "<div>\n",
       "<style scoped>\n",
       "    .dataframe tbody tr th:only-of-type {\n",
       "        vertical-align: middle;\n",
       "    }\n",
       "\n",
       "    .dataframe tbody tr th {\n",
       "        vertical-align: top;\n",
       "    }\n",
       "\n",
       "    .dataframe thead th {\n",
       "        text-align: right;\n",
       "    }\n",
       "</style>\n",
       "<table border=\"1\" class=\"dataframe\">\n",
       "  <thead>\n",
       "    <tr style=\"text-align: right;\">\n",
       "      <th></th>\n",
       "      <th></th>\n",
       "      <th>continent_id</th>\n",
       "      <th>continent_name</th>\n",
       "      <th>continent</th>\n",
       "    </tr>\n",
       "    <tr>\n",
       "      <th>id</th>\n",
       "      <th>name</th>\n",
       "      <th></th>\n",
       "      <th></th>\n",
       "      <th></th>\n",
       "    </tr>\n",
       "  </thead>\n",
       "  <tbody>\n",
       "    <tr>\n",
       "      <th>Q1000</th>\n",
       "      <th>Gabon</th>\n",
       "      <td>Q15</td>\n",
       "      <td>Africa</td>\n",
       "      <td>AF</td>\n",
       "    </tr>\n",
       "    <tr>\n",
       "      <th>Q1005</th>\n",
       "      <th>Gambia</th>\n",
       "      <td>Q15</td>\n",
       "      <td>Africa</td>\n",
       "      <td>AF</td>\n",
       "    </tr>\n",
       "    <tr>\n",
       "      <th>Q1006</th>\n",
       "      <th>Guinea</th>\n",
       "      <td>Q15</td>\n",
       "      <td>Africa</td>\n",
       "      <td>AF</td>\n",
       "    </tr>\n",
       "    <tr>\n",
       "      <th>Q1007</th>\n",
       "      <th>Guinea-Bissau</th>\n",
       "      <td>Q15</td>\n",
       "      <td>Africa</td>\n",
       "      <td>AF</td>\n",
       "    </tr>\n",
       "    <tr>\n",
       "      <th>Q1008</th>\n",
       "      <th>Ivory Coast</th>\n",
       "      <td>Q15</td>\n",
       "      <td>Africa</td>\n",
       "      <td>AF</td>\n",
       "    </tr>\n",
       "  </tbody>\n",
       "</table>\n",
       "</div>"
      ],
      "text/plain": [
       "                    continent_id continent_name continent\n",
       "id    name                                               \n",
       "Q1000 Gabon                  Q15         Africa        AF\n",
       "Q1005 Gambia                 Q15         Africa        AF\n",
       "Q1006 Guinea                 Q15         Africa        AF\n",
       "Q1007 Guinea-Bissau          Q15         Africa        AF\n",
       "Q1008 Ivory Coast            Q15         Africa        AF"
      ]
     },
     "execution_count": 7,
     "metadata": {},
     "output_type": "execute_result"
    }
   ],
   "source": [
    "clean = raw.copy()\n",
    "clean.loc[clean.continent_id == 'Q15', 'continent'] = 'AF'\n",
    "clean.loc[clean.continent_id == 'Q18', 'continent'] = 'SA'\n",
    "clean.loc[clean.continent_id == 'Q46', 'continent'] = 'EU'\n",
    "clean.loc[clean.continent_id == 'Q48', 'continent'] = 'AS'\n",
    "clean.loc[clean.continent_id == 'Q49', 'continent'] = 'NA'\n",
    "clean.loc[clean.continent_id == 'Q51', 'continent'] = 'AN'\n",
    "clean.loc[clean.continent_id == 'Q538', 'continent'] = 'OC'\n",
    "clean.loc[clean.continent_id == 'Q3960', 'continent'] = 'OC'\n",
    "clean.head()"
   ]
  },
  {
   "cell_type": "markdown",
   "metadata": {},
   "source": [
    "## Drop `continent_id` and `continent_name` columns"
   ]
  },
  {
   "cell_type": "code",
   "execution_count": 8,
   "metadata": {},
   "outputs": [
    {
     "data": {
      "text/html": [
       "<div>\n",
       "<style scoped>\n",
       "    .dataframe tbody tr th:only-of-type {\n",
       "        vertical-align: middle;\n",
       "    }\n",
       "\n",
       "    .dataframe tbody tr th {\n",
       "        vertical-align: top;\n",
       "    }\n",
       "\n",
       "    .dataframe thead th {\n",
       "        text-align: right;\n",
       "    }\n",
       "</style>\n",
       "<table border=\"1\" class=\"dataframe\">\n",
       "  <thead>\n",
       "    <tr style=\"text-align: right;\">\n",
       "      <th></th>\n",
       "      <th></th>\n",
       "      <th>continent</th>\n",
       "    </tr>\n",
       "    <tr>\n",
       "      <th>id</th>\n",
       "      <th>name</th>\n",
       "      <th></th>\n",
       "    </tr>\n",
       "  </thead>\n",
       "  <tbody>\n",
       "    <tr>\n",
       "      <th>Q1000</th>\n",
       "      <th>Gabon</th>\n",
       "      <td>AF</td>\n",
       "    </tr>\n",
       "    <tr>\n",
       "      <th>Q1005</th>\n",
       "      <th>Gambia</th>\n",
       "      <td>AF</td>\n",
       "    </tr>\n",
       "    <tr>\n",
       "      <th>Q1006</th>\n",
       "      <th>Guinea</th>\n",
       "      <td>AF</td>\n",
       "    </tr>\n",
       "    <tr>\n",
       "      <th>Q1007</th>\n",
       "      <th>Guinea-Bissau</th>\n",
       "      <td>AF</td>\n",
       "    </tr>\n",
       "    <tr>\n",
       "      <th>Q1008</th>\n",
       "      <th>Ivory Coast</th>\n",
       "      <td>AF</td>\n",
       "    </tr>\n",
       "  </tbody>\n",
       "</table>\n",
       "</div>"
      ],
      "text/plain": [
       "                    continent\n",
       "id    name                   \n",
       "Q1000 Gabon                AF\n",
       "Q1005 Gambia               AF\n",
       "Q1006 Guinea               AF\n",
       "Q1007 Guinea-Bissau        AF\n",
       "Q1008 Ivory Coast          AF"
      ]
     },
     "execution_count": 8,
     "metadata": {},
     "output_type": "execute_result"
    }
   ],
   "source": [
    "clean = clean.drop(columns=['continent_id', 'continent_name'])\n",
    "clean.head()"
   ]
  },
  {
   "cell_type": "markdown",
   "metadata": {},
   "source": [
    "# Testing"
   ]
  },
  {
   "cell_type": "code",
   "execution_count": 9,
   "metadata": {},
   "outputs": [],
   "source": [
    "assert len(clean.index.unique()) == 195"
   ]
  },
  {
   "cell_type": "code",
   "execution_count": 10,
   "metadata": {},
   "outputs": [],
   "source": [
    "assert clean.continent.notnull().all()"
   ]
  },
  {
   "cell_type": "markdown",
   "metadata": {},
   "source": [
    "# Writing"
   ]
  },
  {
   "cell_type": "code",
   "execution_count": 11,
   "metadata": {},
   "outputs": [
    {
     "data": {
      "text/html": [
       "<div>\n",
       "<style scoped>\n",
       "    .dataframe tbody tr th:only-of-type {\n",
       "        vertical-align: middle;\n",
       "    }\n",
       "\n",
       "    .dataframe tbody tr th {\n",
       "        vertical-align: top;\n",
       "    }\n",
       "\n",
       "    .dataframe thead th {\n",
       "        text-align: right;\n",
       "    }\n",
       "</style>\n",
       "<table border=\"1\" class=\"dataframe\">\n",
       "  <thead>\n",
       "    <tr style=\"text-align: right;\">\n",
       "      <th></th>\n",
       "      <th></th>\n",
       "      <th>continent</th>\n",
       "    </tr>\n",
       "    <tr>\n",
       "      <th>id</th>\n",
       "      <th>name</th>\n",
       "      <th></th>\n",
       "    </tr>\n",
       "  </thead>\n",
       "  <tbody>\n",
       "    <tr>\n",
       "      <th>Q1000</th>\n",
       "      <th>Gabon</th>\n",
       "      <td>AF</td>\n",
       "    </tr>\n",
       "    <tr>\n",
       "      <th>Q1005</th>\n",
       "      <th>Gambia</th>\n",
       "      <td>AF</td>\n",
       "    </tr>\n",
       "    <tr>\n",
       "      <th>Q1006</th>\n",
       "      <th>Guinea</th>\n",
       "      <td>AF</td>\n",
       "    </tr>\n",
       "    <tr>\n",
       "      <th>Q1007</th>\n",
       "      <th>Guinea-Bissau</th>\n",
       "      <td>AF</td>\n",
       "    </tr>\n",
       "    <tr>\n",
       "      <th>Q1008</th>\n",
       "      <th>Ivory Coast</th>\n",
       "      <td>AF</td>\n",
       "    </tr>\n",
       "  </tbody>\n",
       "</table>\n",
       "</div>"
      ],
      "text/plain": [
       "                    continent\n",
       "id    name                   \n",
       "Q1000 Gabon                AF\n",
       "Q1005 Gambia               AF\n",
       "Q1006 Guinea               AF\n",
       "Q1007 Guinea-Bissau        AF\n",
       "Q1008 Ivory Coast          AF"
      ]
     },
     "execution_count": 11,
     "metadata": {},
     "output_type": "execute_result"
    }
   ],
   "source": [
    "out = clean.copy()\n",
    "out.head()"
   ]
  },
  {
   "cell_type": "code",
   "execution_count": 12,
   "metadata": {},
   "outputs": [],
   "source": [
    "out.to_csv('country_continents.csv')"
   ]
  }
 ],
 "metadata": {
  "kernelspec": {
   "display_name": "Python 3",
   "language": "python",
   "name": "python3"
  },
  "language_info": {
   "codemirror_mode": {
    "name": "ipython",
    "version": 3
   },
   "file_extension": ".py",
   "mimetype": "text/x-python",
   "name": "python",
   "nbconvert_exporter": "python",
   "pygments_lexer": "ipython3",
   "version": "3.6.9"
  }
 },
 "nbformat": 4,
 "nbformat_minor": 2
}
