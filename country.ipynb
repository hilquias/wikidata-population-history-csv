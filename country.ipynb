{
 "cells": [
  {
   "cell_type": "code",
   "execution_count": 1,
   "metadata": {},
   "outputs": [],
   "source": [
    "%matplotlib inline"
   ]
  },
  {
   "cell_type": "code",
   "execution_count": 2,
   "metadata": {},
   "outputs": [],
   "source": [
    "import numpy as np\n",
    "import pandas as pd"
   ]
  },
  {
   "cell_type": "markdown",
   "metadata": {},
   "source": [
    "# Reading"
   ]
  },
  {
   "cell_type": "code",
   "execution_count": 3,
   "metadata": {},
   "outputs": [
    {
     "data": {
      "text/html": [
       "<div>\n",
       "<style scoped>\n",
       "    .dataframe tbody tr th:only-of-type {\n",
       "        vertical-align: middle;\n",
       "    }\n",
       "\n",
       "    .dataframe tbody tr th {\n",
       "        vertical-align: top;\n",
       "    }\n",
       "\n",
       "    .dataframe thead th {\n",
       "        text-align: right;\n",
       "    }\n",
       "</style>\n",
       "<table border=\"1\" class=\"dataframe\">\n",
       "  <thead>\n",
       "    <tr style=\"text-align: right;\">\n",
       "      <th></th>\n",
       "      <th>id</th>\n",
       "      <th>name</th>\n",
       "    </tr>\n",
       "  </thead>\n",
       "  <tbody>\n",
       "    <tr>\n",
       "      <th>0</th>\n",
       "      <td>Q1000</td>\n",
       "      <td>Gabão</td>\n",
       "    </tr>\n",
       "    <tr>\n",
       "      <th>1</th>\n",
       "      <td>Q1005</td>\n",
       "      <td>Gâmbia</td>\n",
       "    </tr>\n",
       "    <tr>\n",
       "      <th>2</th>\n",
       "      <td>Q1006</td>\n",
       "      <td>Guiné</td>\n",
       "    </tr>\n",
       "    <tr>\n",
       "      <th>3</th>\n",
       "      <td>Q1007</td>\n",
       "      <td>Guiné-Bissau</td>\n",
       "    </tr>\n",
       "    <tr>\n",
       "      <th>4</th>\n",
       "      <td>Q1008</td>\n",
       "      <td>Costa do Marfim</td>\n",
       "    </tr>\n",
       "  </tbody>\n",
       "</table>\n",
       "</div>"
      ],
      "text/plain": [
       "      id             name\n",
       "0  Q1000            Gabão\n",
       "1  Q1005           Gâmbia\n",
       "2  Q1006            Guiné\n",
       "3  Q1007     Guiné-Bissau\n",
       "4  Q1008  Costa do Marfim"
      ]
     },
     "execution_count": 3,
     "metadata": {},
     "output_type": "execute_result"
    }
   ],
   "source": [
    "country_names = pd.read_csv('country/country_names.csv')\n",
    "country_names.head()"
   ]
  },
  {
   "cell_type": "code",
   "execution_count": 4,
   "metadata": {},
   "outputs": [
    {
     "data": {
      "text/html": [
       "<div>\n",
       "<style scoped>\n",
       "    .dataframe tbody tr th:only-of-type {\n",
       "        vertical-align: middle;\n",
       "    }\n",
       "\n",
       "    .dataframe tbody tr th {\n",
       "        vertical-align: top;\n",
       "    }\n",
       "\n",
       "    .dataframe thead th {\n",
       "        text-align: right;\n",
       "    }\n",
       "</style>\n",
       "<table border=\"1\" class=\"dataframe\">\n",
       "  <thead>\n",
       "    <tr style=\"text-align: right;\">\n",
       "      <th></th>\n",
       "      <th>id</th>\n",
       "      <th>name</th>\n",
       "      <th>area</th>\n",
       "    </tr>\n",
       "  </thead>\n",
       "  <tbody>\n",
       "    <tr>\n",
       "      <th>0</th>\n",
       "      <td>Q1000</td>\n",
       "      <td>Gabon</td>\n",
       "      <td>267667.0</td>\n",
       "    </tr>\n",
       "    <tr>\n",
       "      <th>1</th>\n",
       "      <td>Q1005</td>\n",
       "      <td>Gambia</td>\n",
       "      <td>11300.0</td>\n",
       "    </tr>\n",
       "    <tr>\n",
       "      <th>2</th>\n",
       "      <td>Q1006</td>\n",
       "      <td>Guinea</td>\n",
       "      <td>245857.0</td>\n",
       "    </tr>\n",
       "    <tr>\n",
       "      <th>3</th>\n",
       "      <td>Q1007</td>\n",
       "      <td>Guinea-Bissau</td>\n",
       "      <td>36125.0</td>\n",
       "    </tr>\n",
       "    <tr>\n",
       "      <th>4</th>\n",
       "      <td>Q1008</td>\n",
       "      <td>Ivory Coast</td>\n",
       "      <td>322463.0</td>\n",
       "    </tr>\n",
       "  </tbody>\n",
       "</table>\n",
       "</div>"
      ],
      "text/plain": [
       "      id           name      area\n",
       "0  Q1000          Gabon  267667.0\n",
       "1  Q1005         Gambia   11300.0\n",
       "2  Q1006         Guinea  245857.0\n",
       "3  Q1007  Guinea-Bissau   36125.0\n",
       "4  Q1008    Ivory Coast  322463.0"
      ]
     },
     "execution_count": 4,
     "metadata": {},
     "output_type": "execute_result"
    }
   ],
   "source": [
    "country_areas = pd.read_csv('country/country_areas.csv')\n",
    "country_areas.head()"
   ]
  },
  {
   "cell_type": "code",
   "execution_count": 5,
   "metadata": {},
   "outputs": [
    {
     "data": {
      "text/html": [
       "<div>\n",
       "<style scoped>\n",
       "    .dataframe tbody tr th:only-of-type {\n",
       "        vertical-align: middle;\n",
       "    }\n",
       "\n",
       "    .dataframe tbody tr th {\n",
       "        vertical-align: top;\n",
       "    }\n",
       "\n",
       "    .dataframe thead th {\n",
       "        text-align: right;\n",
       "    }\n",
       "</style>\n",
       "<table border=\"1\" class=\"dataframe\">\n",
       "  <thead>\n",
       "    <tr style=\"text-align: right;\">\n",
       "      <th></th>\n",
       "      <th>id</th>\n",
       "      <th>name</th>\n",
       "      <th>continent</th>\n",
       "    </tr>\n",
       "  </thead>\n",
       "  <tbody>\n",
       "    <tr>\n",
       "      <th>0</th>\n",
       "      <td>Q1000</td>\n",
       "      <td>Gabon</td>\n",
       "      <td>AF</td>\n",
       "    </tr>\n",
       "    <tr>\n",
       "      <th>1</th>\n",
       "      <td>Q1005</td>\n",
       "      <td>Gambia</td>\n",
       "      <td>AF</td>\n",
       "    </tr>\n",
       "    <tr>\n",
       "      <th>2</th>\n",
       "      <td>Q1006</td>\n",
       "      <td>Guinea</td>\n",
       "      <td>AF</td>\n",
       "    </tr>\n",
       "    <tr>\n",
       "      <th>3</th>\n",
       "      <td>Q1007</td>\n",
       "      <td>Guinea-Bissau</td>\n",
       "      <td>AF</td>\n",
       "    </tr>\n",
       "    <tr>\n",
       "      <th>4</th>\n",
       "      <td>Q1008</td>\n",
       "      <td>Ivory Coast</td>\n",
       "      <td>AF</td>\n",
       "    </tr>\n",
       "  </tbody>\n",
       "</table>\n",
       "</div>"
      ],
      "text/plain": [
       "      id           name continent\n",
       "0  Q1000          Gabon        AF\n",
       "1  Q1005         Gambia        AF\n",
       "2  Q1006         Guinea        AF\n",
       "3  Q1007  Guinea-Bissau        AF\n",
       "4  Q1008    Ivory Coast        AF"
      ]
     },
     "execution_count": 5,
     "metadata": {},
     "output_type": "execute_result"
    }
   ],
   "source": [
    "country_continents = pd.read_csv('country/country_continents.csv', keep_default_na=False, na_values=[\"\"])\n",
    "country_continents.head()"
   ]
  },
  {
   "cell_type": "code",
   "execution_count": 6,
   "metadata": {
    "scrolled": true
   },
   "outputs": [
    {
     "data": {
      "text/html": [
       "<div>\n",
       "<style scoped>\n",
       "    .dataframe tbody tr th:only-of-type {\n",
       "        vertical-align: middle;\n",
       "    }\n",
       "\n",
       "    .dataframe tbody tr th {\n",
       "        vertical-align: top;\n",
       "    }\n",
       "\n",
       "    .dataframe thead th {\n",
       "        text-align: right;\n",
       "    }\n",
       "</style>\n",
       "<table border=\"1\" class=\"dataframe\">\n",
       "  <thead>\n",
       "    <tr style=\"text-align: right;\">\n",
       "      <th></th>\n",
       "      <th>id</th>\n",
       "      <th>name</th>\n",
       "      <th>year</th>\n",
       "      <th>population</th>\n",
       "    </tr>\n",
       "  </thead>\n",
       "  <tbody>\n",
       "    <tr>\n",
       "      <th>0</th>\n",
       "      <td>Q1000</td>\n",
       "      <td>Gabon</td>\n",
       "      <td>1960</td>\n",
       "      <td>498823.0</td>\n",
       "    </tr>\n",
       "    <tr>\n",
       "      <th>1</th>\n",
       "      <td>Q1000</td>\n",
       "      <td>Gabon</td>\n",
       "      <td>1961</td>\n",
       "      <td>503762.0</td>\n",
       "    </tr>\n",
       "    <tr>\n",
       "      <th>2</th>\n",
       "      <td>Q1000</td>\n",
       "      <td>Gabon</td>\n",
       "      <td>1962</td>\n",
       "      <td>509348.0</td>\n",
       "    </tr>\n",
       "    <tr>\n",
       "      <th>3</th>\n",
       "      <td>Q1000</td>\n",
       "      <td>Gabon</td>\n",
       "      <td>1963</td>\n",
       "      <td>515762.0</td>\n",
       "    </tr>\n",
       "    <tr>\n",
       "      <th>4</th>\n",
       "      <td>Q1000</td>\n",
       "      <td>Gabon</td>\n",
       "      <td>1964</td>\n",
       "      <td>523236.0</td>\n",
       "    </tr>\n",
       "  </tbody>\n",
       "</table>\n",
       "</div>"
      ],
      "text/plain": [
       "      id   name  year  population\n",
       "0  Q1000  Gabon  1960    498823.0\n",
       "1  Q1000  Gabon  1961    503762.0\n",
       "2  Q1000  Gabon  1962    509348.0\n",
       "3  Q1000  Gabon  1963    515762.0\n",
       "4  Q1000  Gabon  1964    523236.0"
      ]
     },
     "execution_count": 6,
     "metadata": {},
     "output_type": "execute_result"
    }
   ],
   "source": [
    "country_populations = pd.read_csv('country/country_populations.csv')\n",
    "country_populations.head()"
   ]
  },
  {
   "cell_type": "markdown",
   "metadata": {},
   "source": [
    "# Merging"
   ]
  },
  {
   "cell_type": "code",
   "execution_count": 7,
   "metadata": {},
   "outputs": [
    {
     "data": {
      "text/html": [
       "<div>\n",
       "<style scoped>\n",
       "    .dataframe tbody tr th:only-of-type {\n",
       "        vertical-align: middle;\n",
       "    }\n",
       "\n",
       "    .dataframe tbody tr th {\n",
       "        vertical-align: top;\n",
       "    }\n",
       "\n",
       "    .dataframe thead th {\n",
       "        text-align: right;\n",
       "    }\n",
       "</style>\n",
       "<table border=\"1\" class=\"dataframe\">\n",
       "  <thead>\n",
       "    <tr style=\"text-align: right;\">\n",
       "      <th></th>\n",
       "      <th>id</th>\n",
       "      <th>name</th>\n",
       "      <th>area</th>\n",
       "    </tr>\n",
       "  </thead>\n",
       "  <tbody>\n",
       "    <tr>\n",
       "      <th>0</th>\n",
       "      <td>Q1000</td>\n",
       "      <td>Gabão</td>\n",
       "      <td>267667.0</td>\n",
       "    </tr>\n",
       "    <tr>\n",
       "      <th>1</th>\n",
       "      <td>Q1005</td>\n",
       "      <td>Gâmbia</td>\n",
       "      <td>11300.0</td>\n",
       "    </tr>\n",
       "    <tr>\n",
       "      <th>2</th>\n",
       "      <td>Q1006</td>\n",
       "      <td>Guiné</td>\n",
       "      <td>245857.0</td>\n",
       "    </tr>\n",
       "    <tr>\n",
       "      <th>3</th>\n",
       "      <td>Q1007</td>\n",
       "      <td>Guiné-Bissau</td>\n",
       "      <td>36125.0</td>\n",
       "    </tr>\n",
       "    <tr>\n",
       "      <th>4</th>\n",
       "      <td>Q1008</td>\n",
       "      <td>Costa do Marfim</td>\n",
       "      <td>322463.0</td>\n",
       "    </tr>\n",
       "  </tbody>\n",
       "</table>\n",
       "</div>"
      ],
      "text/plain": [
       "      id             name      area\n",
       "0  Q1000            Gabão  267667.0\n",
       "1  Q1005           Gâmbia   11300.0\n",
       "2  Q1006            Guiné  245857.0\n",
       "3  Q1007     Guiné-Bissau   36125.0\n",
       "4  Q1008  Costa do Marfim  322463.0"
      ]
     },
     "execution_count": 7,
     "metadata": {},
     "output_type": "execute_result"
    }
   ],
   "source": [
    "df = country_names.merge(country_areas.drop(columns=['name']), how='left')\n",
    "df.head()"
   ]
  },
  {
   "cell_type": "code",
   "execution_count": 8,
   "metadata": {},
   "outputs": [
    {
     "data": {
      "text/html": [
       "<div>\n",
       "<style scoped>\n",
       "    .dataframe tbody tr th:only-of-type {\n",
       "        vertical-align: middle;\n",
       "    }\n",
       "\n",
       "    .dataframe tbody tr th {\n",
       "        vertical-align: top;\n",
       "    }\n",
       "\n",
       "    .dataframe thead th {\n",
       "        text-align: right;\n",
       "    }\n",
       "</style>\n",
       "<table border=\"1\" class=\"dataframe\">\n",
       "  <thead>\n",
       "    <tr style=\"text-align: right;\">\n",
       "      <th></th>\n",
       "      <th>id</th>\n",
       "      <th>name</th>\n",
       "      <th>area</th>\n",
       "      <th>continent</th>\n",
       "    </tr>\n",
       "  </thead>\n",
       "  <tbody>\n",
       "    <tr>\n",
       "      <th>0</th>\n",
       "      <td>Q1000</td>\n",
       "      <td>Gabão</td>\n",
       "      <td>267667.0</td>\n",
       "      <td>AF</td>\n",
       "    </tr>\n",
       "    <tr>\n",
       "      <th>1</th>\n",
       "      <td>Q1005</td>\n",
       "      <td>Gâmbia</td>\n",
       "      <td>11300.0</td>\n",
       "      <td>AF</td>\n",
       "    </tr>\n",
       "    <tr>\n",
       "      <th>2</th>\n",
       "      <td>Q1006</td>\n",
       "      <td>Guiné</td>\n",
       "      <td>245857.0</td>\n",
       "      <td>AF</td>\n",
       "    </tr>\n",
       "    <tr>\n",
       "      <th>3</th>\n",
       "      <td>Q1007</td>\n",
       "      <td>Guiné-Bissau</td>\n",
       "      <td>36125.0</td>\n",
       "      <td>AF</td>\n",
       "    </tr>\n",
       "    <tr>\n",
       "      <th>4</th>\n",
       "      <td>Q1008</td>\n",
       "      <td>Costa do Marfim</td>\n",
       "      <td>322463.0</td>\n",
       "      <td>AF</td>\n",
       "    </tr>\n",
       "  </tbody>\n",
       "</table>\n",
       "</div>"
      ],
      "text/plain": [
       "      id             name      area continent\n",
       "0  Q1000            Gabão  267667.0        AF\n",
       "1  Q1005           Gâmbia   11300.0        AF\n",
       "2  Q1006            Guiné  245857.0        AF\n",
       "3  Q1007     Guiné-Bissau   36125.0        AF\n",
       "4  Q1008  Costa do Marfim  322463.0        AF"
      ]
     },
     "execution_count": 8,
     "metadata": {},
     "output_type": "execute_result"
    }
   ],
   "source": [
    "df = df.merge(country_continents.drop(columns=['name']), how='left')\n",
    "df.head()"
   ]
  },
  {
   "cell_type": "code",
   "execution_count": 9,
   "metadata": {},
   "outputs": [],
   "source": [
    "def fill_population(pop):\n",
    "    return pop.interpolate()\n",
    "\n",
    "pop = country_populations.drop(columns=['name']).groupby(['id']).apply(fill_population)"
   ]
  },
  {
   "cell_type": "code",
   "execution_count": 10,
   "metadata": {},
   "outputs": [
    {
     "data": {
      "text/html": [
       "<div>\n",
       "<style scoped>\n",
       "    .dataframe tbody tr th:only-of-type {\n",
       "        vertical-align: middle;\n",
       "    }\n",
       "\n",
       "    .dataframe tbody tr th {\n",
       "        vertical-align: top;\n",
       "    }\n",
       "\n",
       "    .dataframe thead th {\n",
       "        text-align: right;\n",
       "    }\n",
       "</style>\n",
       "<table border=\"1\" class=\"dataframe\">\n",
       "  <thead>\n",
       "    <tr style=\"text-align: right;\">\n",
       "      <th></th>\n",
       "      <th>id</th>\n",
       "      <th>name</th>\n",
       "      <th>area</th>\n",
       "      <th>continent</th>\n",
       "      <th>year</th>\n",
       "      <th>population</th>\n",
       "    </tr>\n",
       "  </thead>\n",
       "  <tbody>\n",
       "    <tr>\n",
       "      <th>0</th>\n",
       "      <td>Q1000</td>\n",
       "      <td>Gabão</td>\n",
       "      <td>267667.0</td>\n",
       "      <td>AF</td>\n",
       "      <td>1960</td>\n",
       "      <td>498823.0</td>\n",
       "    </tr>\n",
       "    <tr>\n",
       "      <th>1</th>\n",
       "      <td>Q1000</td>\n",
       "      <td>Gabão</td>\n",
       "      <td>267667.0</td>\n",
       "      <td>AF</td>\n",
       "      <td>1961</td>\n",
       "      <td>503762.0</td>\n",
       "    </tr>\n",
       "    <tr>\n",
       "      <th>2</th>\n",
       "      <td>Q1000</td>\n",
       "      <td>Gabão</td>\n",
       "      <td>267667.0</td>\n",
       "      <td>AF</td>\n",
       "      <td>1962</td>\n",
       "      <td>509348.0</td>\n",
       "    </tr>\n",
       "    <tr>\n",
       "      <th>3</th>\n",
       "      <td>Q1000</td>\n",
       "      <td>Gabão</td>\n",
       "      <td>267667.0</td>\n",
       "      <td>AF</td>\n",
       "      <td>1963</td>\n",
       "      <td>515762.0</td>\n",
       "    </tr>\n",
       "    <tr>\n",
       "      <th>4</th>\n",
       "      <td>Q1000</td>\n",
       "      <td>Gabão</td>\n",
       "      <td>267667.0</td>\n",
       "      <td>AF</td>\n",
       "      <td>1964</td>\n",
       "      <td>523236.0</td>\n",
       "    </tr>\n",
       "  </tbody>\n",
       "</table>\n",
       "</div>"
      ],
      "text/plain": [
       "      id   name      area continent  year  population\n",
       "0  Q1000  Gabão  267667.0        AF  1960    498823.0\n",
       "1  Q1000  Gabão  267667.0        AF  1961    503762.0\n",
       "2  Q1000  Gabão  267667.0        AF  1962    509348.0\n",
       "3  Q1000  Gabão  267667.0        AF  1963    515762.0\n",
       "4  Q1000  Gabão  267667.0        AF  1964    523236.0"
      ]
     },
     "execution_count": 10,
     "metadata": {},
     "output_type": "execute_result"
    }
   ],
   "source": [
    "df = df.merge(pop, how='left')\n",
    "df.head()"
   ]
  },
  {
   "cell_type": "markdown",
   "metadata": {},
   "source": [
    "# Cleaning"
   ]
  },
  {
   "cell_type": "code",
   "execution_count": 11,
   "metadata": {},
   "outputs": [
    {
     "data": {
      "text/html": [
       "<div>\n",
       "<style scoped>\n",
       "    .dataframe tbody tr th:only-of-type {\n",
       "        vertical-align: middle;\n",
       "    }\n",
       "\n",
       "    .dataframe tbody tr th {\n",
       "        vertical-align: top;\n",
       "    }\n",
       "\n",
       "    .dataframe thead th {\n",
       "        text-align: right;\n",
       "    }\n",
       "</style>\n",
       "<table border=\"1\" class=\"dataframe\">\n",
       "  <thead>\n",
       "    <tr style=\"text-align: right;\">\n",
       "      <th></th>\n",
       "      <th>name</th>\n",
       "      <th>area</th>\n",
       "      <th>continent</th>\n",
       "      <th>year</th>\n",
       "      <th>population</th>\n",
       "    </tr>\n",
       "    <tr>\n",
       "      <th>id</th>\n",
       "      <th></th>\n",
       "      <th></th>\n",
       "      <th></th>\n",
       "      <th></th>\n",
       "      <th></th>\n",
       "    </tr>\n",
       "  </thead>\n",
       "  <tbody>\n",
       "    <tr>\n",
       "      <th>Q1000</th>\n",
       "      <td>Gabão</td>\n",
       "      <td>267667.0</td>\n",
       "      <td>AF</td>\n",
       "      <td>1960</td>\n",
       "      <td>498823.0</td>\n",
       "    </tr>\n",
       "    <tr>\n",
       "      <th>Q1000</th>\n",
       "      <td>Gabão</td>\n",
       "      <td>267667.0</td>\n",
       "      <td>AF</td>\n",
       "      <td>1961</td>\n",
       "      <td>503762.0</td>\n",
       "    </tr>\n",
       "    <tr>\n",
       "      <th>Q1000</th>\n",
       "      <td>Gabão</td>\n",
       "      <td>267667.0</td>\n",
       "      <td>AF</td>\n",
       "      <td>1962</td>\n",
       "      <td>509348.0</td>\n",
       "    </tr>\n",
       "    <tr>\n",
       "      <th>Q1000</th>\n",
       "      <td>Gabão</td>\n",
       "      <td>267667.0</td>\n",
       "      <td>AF</td>\n",
       "      <td>1963</td>\n",
       "      <td>515762.0</td>\n",
       "    </tr>\n",
       "    <tr>\n",
       "      <th>Q1000</th>\n",
       "      <td>Gabão</td>\n",
       "      <td>267667.0</td>\n",
       "      <td>AF</td>\n",
       "      <td>1964</td>\n",
       "      <td>523236.0</td>\n",
       "    </tr>\n",
       "  </tbody>\n",
       "</table>\n",
       "</div>"
      ],
      "text/plain": [
       "        name      area continent  year  population\n",
       "id                                                \n",
       "Q1000  Gabão  267667.0        AF  1960    498823.0\n",
       "Q1000  Gabão  267667.0        AF  1961    503762.0\n",
       "Q1000  Gabão  267667.0        AF  1962    509348.0\n",
       "Q1000  Gabão  267667.0        AF  1963    515762.0\n",
       "Q1000  Gabão  267667.0        AF  1964    523236.0"
      ]
     },
     "execution_count": 11,
     "metadata": {},
     "output_type": "execute_result"
    }
   ],
   "source": [
    "clean = df.set_index('id').sort_index()\n",
    "clean.head()"
   ]
  },
  {
   "cell_type": "markdown",
   "metadata": {},
   "source": [
    "## Transcontinental countries"
   ]
  },
  {
   "cell_type": "code",
   "execution_count": 12,
   "metadata": {},
   "outputs": [
    {
     "data": {
      "text/plain": [
       "id\n",
       "Q1000    False\n",
       "Q1005    False\n",
       "Q1006    False\n",
       "Q1007    False\n",
       "Q1008    False\n",
       "Name: transcontinental, dtype: bool"
      ]
     },
     "execution_count": 12,
     "metadata": {},
     "output_type": "execute_result"
    }
   ],
   "source": [
    "transcontinental = df.drop(columns=['name', 'area', 'year', 'population']).drop_duplicates().groupby(by='id').size() > 1\n",
    "transcontinental.name = 'transcontinental'\n",
    "transcontinental.head()"
   ]
  },
  {
   "cell_type": "code",
   "execution_count": 13,
   "metadata": {},
   "outputs": [],
   "source": [
    "clean = clean.merge(transcontinental, left_index=True, right_index=True)\n",
    "clean = clean.reset_index().set_index(['id', 'continent'])"
   ]
  },
  {
   "cell_type": "code",
   "execution_count": 14,
   "metadata": {},
   "outputs": [
    {
     "data": {
      "text/html": [
       "<div>\n",
       "<style scoped>\n",
       "    .dataframe tbody tr th:only-of-type {\n",
       "        vertical-align: middle;\n",
       "    }\n",
       "\n",
       "    .dataframe tbody tr th {\n",
       "        vertical-align: top;\n",
       "    }\n",
       "\n",
       "    .dataframe thead th {\n",
       "        text-align: right;\n",
       "    }\n",
       "</style>\n",
       "<table border=\"1\" class=\"dataframe\">\n",
       "  <thead>\n",
       "    <tr style=\"text-align: right;\">\n",
       "      <th></th>\n",
       "      <th></th>\n",
       "      <th>name</th>\n",
       "      <th>area</th>\n",
       "      <th>year</th>\n",
       "      <th>population</th>\n",
       "      <th>transcontinental</th>\n",
       "    </tr>\n",
       "    <tr>\n",
       "      <th>id</th>\n",
       "      <th>continent</th>\n",
       "      <th></th>\n",
       "      <th></th>\n",
       "      <th></th>\n",
       "      <th></th>\n",
       "      <th></th>\n",
       "    </tr>\n",
       "  </thead>\n",
       "  <tbody>\n",
       "    <tr>\n",
       "      <th rowspan=\"5\" valign=\"top\">Q1000</th>\n",
       "      <th>AF</th>\n",
       "      <td>Gabão</td>\n",
       "      <td>267667.0</td>\n",
       "      <td>1960</td>\n",
       "      <td>498823.0</td>\n",
       "      <td>False</td>\n",
       "    </tr>\n",
       "    <tr>\n",
       "      <th>AF</th>\n",
       "      <td>Gabão</td>\n",
       "      <td>267667.0</td>\n",
       "      <td>1961</td>\n",
       "      <td>503762.0</td>\n",
       "      <td>False</td>\n",
       "    </tr>\n",
       "    <tr>\n",
       "      <th>AF</th>\n",
       "      <td>Gabão</td>\n",
       "      <td>267667.0</td>\n",
       "      <td>1962</td>\n",
       "      <td>509348.0</td>\n",
       "      <td>False</td>\n",
       "    </tr>\n",
       "    <tr>\n",
       "      <th>AF</th>\n",
       "      <td>Gabão</td>\n",
       "      <td>267667.0</td>\n",
       "      <td>1963</td>\n",
       "      <td>515762.0</td>\n",
       "      <td>False</td>\n",
       "    </tr>\n",
       "    <tr>\n",
       "      <th>AF</th>\n",
       "      <td>Gabão</td>\n",
       "      <td>267667.0</td>\n",
       "      <td>1964</td>\n",
       "      <td>523236.0</td>\n",
       "      <td>False</td>\n",
       "    </tr>\n",
       "  </tbody>\n",
       "</table>\n",
       "</div>"
      ],
      "text/plain": [
       "                  name      area  year  population  transcontinental\n",
       "id    continent                                                     \n",
       "Q1000 AF         Gabão  267667.0  1960    498823.0             False\n",
       "      AF         Gabão  267667.0  1961    503762.0             False\n",
       "      AF         Gabão  267667.0  1962    509348.0             False\n",
       "      AF         Gabão  267667.0  1963    515762.0             False\n",
       "      AF         Gabão  267667.0  1964    523236.0             False"
      ]
     },
     "execution_count": 14,
     "metadata": {},
     "output_type": "execute_result"
    }
   ],
   "source": [
    "clean.head()"
   ]
  },
  {
   "cell_type": "code",
   "execution_count": 15,
   "metadata": {},
   "outputs": [
    {
     "data": {
      "text/plain": [
       "array(['Rússia', 'Azerbaijão', 'Chipre', 'Geórgia', 'Cazaquistão',\n",
       "       'Holanda', 'Estados Unidos', 'Arménia', 'Turquia',\n",
       "       'Reino da Dinamarca', 'Egito', 'Panamá'], dtype=object)"
      ]
     },
     "execution_count": 15,
     "metadata": {},
     "output_type": "execute_result"
    }
   ],
   "source": [
    "clean[clean.transcontinental].name.unique()"
   ]
  },
  {
   "cell_type": "markdown",
   "metadata": {},
   "source": [
    "###### Russia\n",
    "\n",
    "> The Russian Federation includes substantial territory in North Asia, historically incorporated into the Tsardom of Russia in the 17th century. European Russia has a population of about 110 million, or some 75% of the country's total population, though more than 75% of Russia's territory is in Asia."
   ]
  },
  {
   "cell_type": "code",
   "execution_count": 16,
   "metadata": {},
   "outputs": [
    {
     "name": "stderr",
     "output_type": "stream",
     "text": [
      "/usr/lib64/python3.6/site-packages/pandas/core/indexing.py:1494: PerformanceWarning: indexing past lexsort depth may impact performance.\n",
      "  return self._getitem_tuple(key)\n",
      "/usr/lib64/python3.6/site-packages/IPython/core/async_helpers.py:67: PerformanceWarning: indexing past lexsort depth may impact performance.\n",
      "  coro.send(None)\n"
     ]
    }
   ],
   "source": [
    "# Set proportional area and population for each Russia continent\n",
    "clean.loc[('Q159', 'AS'), 'area'] *= 0.75\n",
    "clean.loc[('Q159', 'EU'), 'area'] *= 0.25\n",
    "clean.loc[('Q159', 'AS'), 'population'] *= 0.25\n",
    "clean.loc[('Q159', 'EU'), 'population'] *= 0.75\n"
   ]
  },
  {
   "cell_type": "markdown",
   "metadata": {},
   "source": [
    "###### Azerbaijan"
   ]
  },
  {
   "cell_type": "code",
   "execution_count": 17,
   "metadata": {},
   "outputs": [],
   "source": [
    "# Place Azerbaijan in asia.\n",
    "clean = clean.drop([('Q227', 'EU')])"
   ]
  },
  {
   "cell_type": "markdown",
   "metadata": {},
   "source": [
    "###### Cyprus"
   ]
  },
  {
   "cell_type": "code",
   "execution_count": 18,
   "metadata": {},
   "outputs": [],
   "source": [
    "# Place Cyprus in asia.\n",
    "clean = clean.drop([('Q229', 'EU')])"
   ]
  },
  {
   "cell_type": "markdown",
   "metadata": {},
   "source": [
    "###### Georgia"
   ]
  },
  {
   "cell_type": "code",
   "execution_count": 19,
   "metadata": {},
   "outputs": [],
   "source": [
    "# Place Georgia in asia.\n",
    "clean = clean.drop([('Q230', 'EU')])"
   ]
  },
  {
   "cell_type": "markdown",
   "metadata": {},
   "source": [
    "###### Kazakhstan"
   ]
  },
  {
   "cell_type": "code",
   "execution_count": 20,
   "metadata": {},
   "outputs": [],
   "source": [
    "# Place Kazakhstan in asia.\n",
    "clean = clean.drop([('Q232', 'EU')])"
   ]
  },
  {
   "cell_type": "markdown",
   "metadata": {},
   "source": [
    "###### Kingdom of the Netherlands"
   ]
  },
  {
   "cell_type": "code",
   "execution_count": 21,
   "metadata": {},
   "outputs": [],
   "source": [
    "# Place Kingdom of the Netherlands in europe.\n",
    "clean = clean.drop([('Q29999', 'NA')])"
   ]
  },
  {
   "cell_type": "markdown",
   "metadata": {},
   "source": [
    "###### United States"
   ]
  },
  {
   "cell_type": "code",
   "execution_count": 22,
   "metadata": {},
   "outputs": [],
   "source": [
    "# Place United States in north america.\n",
    "clean = clean.drop([('Q30', 'OC')])"
   ]
  },
  {
   "cell_type": "markdown",
   "metadata": {},
   "source": [
    "###### Armenia"
   ]
  },
  {
   "cell_type": "code",
   "execution_count": 23,
   "metadata": {},
   "outputs": [],
   "source": [
    "# Place Armenia in asia.\n",
    "clean = clean.drop([('Q399', 'EU')])"
   ]
  },
  {
   "cell_type": "markdown",
   "metadata": {},
   "source": [
    "###### Turkey"
   ]
  },
  {
   "cell_type": "code",
   "execution_count": 24,
   "metadata": {},
   "outputs": [],
   "source": [
    "# Place Turkey in asia.\n",
    "clean = clean.drop([('Q43', 'EU')])"
   ]
  },
  {
   "cell_type": "markdown",
   "metadata": {},
   "source": [
    "###### Kingdom of Denmark"
   ]
  },
  {
   "cell_type": "code",
   "execution_count": 25,
   "metadata": {},
   "outputs": [],
   "source": [
    "# Place Kingdom of Denmark in europe.\n",
    "clean = clean.drop([('Q756617', 'NA')])"
   ]
  },
  {
   "cell_type": "markdown",
   "metadata": {},
   "source": [
    "###### Egypt"
   ]
  },
  {
   "cell_type": "code",
   "execution_count": 26,
   "metadata": {},
   "outputs": [],
   "source": [
    "# Place Egypt in africa.\n",
    "clean = clean.drop([('Q79', 'AS')])"
   ]
  },
  {
   "cell_type": "markdown",
   "metadata": {},
   "source": [
    "###### Panama"
   ]
  },
  {
   "cell_type": "code",
   "execution_count": 27,
   "metadata": {},
   "outputs": [],
   "source": [
    "# Place Panama in north america.\n",
    "clean = clean.drop([('Q804', 'SA')])"
   ]
  },
  {
   "cell_type": "markdown",
   "metadata": {},
   "source": [
    "# Testing"
   ]
  },
  {
   "cell_type": "code",
   "execution_count": 28,
   "metadata": {},
   "outputs": [],
   "source": [
    "assert len(clean) == 60 * 196"
   ]
  },
  {
   "cell_type": "code",
   "execution_count": 29,
   "metadata": {},
   "outputs": [],
   "source": [
    "assert clean.index.levels[0].notnull().all()"
   ]
  },
  {
   "cell_type": "code",
   "execution_count": 30,
   "metadata": {},
   "outputs": [],
   "source": [
    "assert len(clean.index.unique(0)) == 195"
   ]
  },
  {
   "cell_type": "code",
   "execution_count": 31,
   "metadata": {},
   "outputs": [],
   "source": [
    "assert clean.name.notnull().all()"
   ]
  },
  {
   "cell_type": "code",
   "execution_count": 32,
   "metadata": {},
   "outputs": [],
   "source": [
    "assert len(clean.name.unique()) == 195"
   ]
  },
  {
   "cell_type": "code",
   "execution_count": 33,
   "metadata": {},
   "outputs": [],
   "source": [
    "assert clean.area.notnull().all()"
   ]
  },
  {
   "cell_type": "code",
   "execution_count": 34,
   "metadata": {},
   "outputs": [],
   "source": [
    "assert clean.index.levels[1].notnull().all()"
   ]
  },
  {
   "cell_type": "code",
   "execution_count": 35,
   "metadata": {},
   "outputs": [],
   "source": [
    "assert len(clean.index.unique(1)) == 6"
   ]
  },
  {
   "cell_type": "code",
   "execution_count": 36,
   "metadata": {},
   "outputs": [],
   "source": [
    "assert clean.population.isnull().any()"
   ]
  },
  {
   "cell_type": "code",
   "execution_count": 37,
   "metadata": {},
   "outputs": [],
   "source": [
    "assert clean.transcontinental.notnull().all()"
   ]
  },
  {
   "cell_type": "code",
   "execution_count": 38,
   "metadata": {},
   "outputs": [],
   "source": [
    "assert clean.transcontinental.any()"
   ]
  },
  {
   "cell_type": "markdown",
   "metadata": {},
   "source": [
    "# Writing"
   ]
  },
  {
   "cell_type": "code",
   "execution_count": 39,
   "metadata": {},
   "outputs": [
    {
     "data": {
      "text/html": [
       "<div>\n",
       "<style scoped>\n",
       "    .dataframe tbody tr th:only-of-type {\n",
       "        vertical-align: middle;\n",
       "    }\n",
       "\n",
       "    .dataframe tbody tr th {\n",
       "        vertical-align: top;\n",
       "    }\n",
       "\n",
       "    .dataframe thead th {\n",
       "        text-align: right;\n",
       "    }\n",
       "</style>\n",
       "<table border=\"1\" class=\"dataframe\">\n",
       "  <thead>\n",
       "    <tr style=\"text-align: right;\">\n",
       "      <th></th>\n",
       "      <th></th>\n",
       "      <th>name</th>\n",
       "      <th>area</th>\n",
       "      <th>year</th>\n",
       "      <th>population</th>\n",
       "    </tr>\n",
       "    <tr>\n",
       "      <th>id</th>\n",
       "      <th>continent</th>\n",
       "      <th></th>\n",
       "      <th></th>\n",
       "      <th></th>\n",
       "      <th></th>\n",
       "    </tr>\n",
       "  </thead>\n",
       "  <tbody>\n",
       "    <tr>\n",
       "      <th rowspan=\"5\" valign=\"top\">Q1000</th>\n",
       "      <th>AF</th>\n",
       "      <td>Gabão</td>\n",
       "      <td>267667.0</td>\n",
       "      <td>1960</td>\n",
       "      <td>498823.0</td>\n",
       "    </tr>\n",
       "    <tr>\n",
       "      <th>AF</th>\n",
       "      <td>Gabão</td>\n",
       "      <td>267667.0</td>\n",
       "      <td>1961</td>\n",
       "      <td>503762.0</td>\n",
       "    </tr>\n",
       "    <tr>\n",
       "      <th>AF</th>\n",
       "      <td>Gabão</td>\n",
       "      <td>267667.0</td>\n",
       "      <td>1962</td>\n",
       "      <td>509348.0</td>\n",
       "    </tr>\n",
       "    <tr>\n",
       "      <th>AF</th>\n",
       "      <td>Gabão</td>\n",
       "      <td>267667.0</td>\n",
       "      <td>1963</td>\n",
       "      <td>515762.0</td>\n",
       "    </tr>\n",
       "    <tr>\n",
       "      <th>AF</th>\n",
       "      <td>Gabão</td>\n",
       "      <td>267667.0</td>\n",
       "      <td>1964</td>\n",
       "      <td>523236.0</td>\n",
       "    </tr>\n",
       "  </tbody>\n",
       "</table>\n",
       "</div>"
      ],
      "text/plain": [
       "                  name      area  year  population\n",
       "id    continent                                   \n",
       "Q1000 AF         Gabão  267667.0  1960    498823.0\n",
       "      AF         Gabão  267667.0  1961    503762.0\n",
       "      AF         Gabão  267667.0  1962    509348.0\n",
       "      AF         Gabão  267667.0  1963    515762.0\n",
       "      AF         Gabão  267667.0  1964    523236.0"
      ]
     },
     "execution_count": 39,
     "metadata": {},
     "output_type": "execute_result"
    }
   ],
   "source": [
    "out = clean.drop(columns='transcontinental')\n",
    "out.head()"
   ]
  },
  {
   "cell_type": "code",
   "execution_count": 40,
   "metadata": {},
   "outputs": [],
   "source": [
    "out.to_csv('country.csv')"
   ]
  },
  {
   "cell_type": "markdown",
   "metadata": {},
   "source": [
    "# References"
   ]
  },
  {
   "cell_type": "markdown",
   "metadata": {},
   "source": [
    "https://en.wikipedia.org/wiki/List_of_transcontinental_countries"
   ]
  },
  {
   "cell_type": "markdown",
   "metadata": {},
   "source": [
    "https://population.un.org/wpp/DataQuery"
   ]
  },
  {
   "cell_type": "code",
   "execution_count": null,
   "metadata": {},
   "outputs": [],
   "source": []
  },
  {
   "cell_type": "code",
   "execution_count": null,
   "metadata": {},
   "outputs": [],
   "source": []
  }
 ],
 "metadata": {
  "kernelspec": {
   "display_name": "Python 3",
   "language": "python",
   "name": "python3"
  },
  "language_info": {
   "codemirror_mode": {
    "name": "ipython",
    "version": 3
   },
   "file_extension": ".py",
   "mimetype": "text/x-python",
   "name": "python",
   "nbconvert_exporter": "python",
   "pygments_lexer": "ipython3",
   "version": "3.6.9"
  }
 },
 "nbformat": 4,
 "nbformat_minor": 2
}
